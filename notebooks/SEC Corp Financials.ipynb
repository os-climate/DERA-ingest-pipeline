{
 "cells": [
  {
   "cell_type": "markdown",
   "id": "1ce1cf9f-2d20-460b-8d10-184e8af19c25",
   "metadata": {},
   "source": [
    "# Create VIEWs on SEC DERA data by LEI\n",
    "\n",
    "## Full-year FY REVENUES, INCOME\n",
    "\n",
    "## Point-in-time FLOAT, DEBT, CASH, ASSETS, (EV = FLOAT + DEBT - CASH, EVIC = FLOAT + DEBT)\n",
    "\n",
    "In this workflow we assume (and depend upon) the interesting NUM data coming only from the consolidated entity (NUM.COREG IS NULL) and not from co-registrants.  \n",
    "Please explore EXCELON (EXC) and DOMINION ENERGY (D) to see examples of reports with substantial co-registrant entities."
   ]
  },
  {
   "cell_type": "code",
   "execution_count": null,
   "id": "2e31920e-a97e-427d-9102-ac2d4e6898ca",
   "metadata": {},
   "outputs": [],
   "source": [
    "import os\n",
    "import pathlib\n",
    "from dotenv import load_dotenv\n",
    "\n",
    "# Load some standard environment variables from a dot-env file, if it exists.\n",
    "# If no such file can be found, does not fail, and so allows these environment vars to\n",
    "# be populated in some other way\n",
    "dotenv_dir = os.environ.get(\"CREDENTIAL_DOTENV_DIR\", os.environ.get(\"PWD\", \"/opt/app-root/src\"))\n",
    "dotenv_path = pathlib.Path(dotenv_dir) / \"credentials.env\"\n",
    "if os.path.exists(dotenv_path):\n",
    "    load_dotenv(dotenv_path=dotenv_path, override=True)"
   ]
  },
  {
   "cell_type": "markdown",
   "id": "f0606067-d586-41b0-a7dd-c6d7727c6b1f",
   "metadata": {},
   "source": [
    "Set session variable CATALOG to make query terms much more compact"
   ]
  },
  {
   "cell_type": "code",
   "execution_count": null,
   "id": "ab600994-3dc8-4b3c-943c-af43a29db1e6",
   "metadata": {},
   "outputs": [],
   "source": [
    "import trino\n",
    "from sqlalchemy.engine import create_engine\n",
    "\n",
    "ingest_catalog = \"osc_datacommons_dev\"\n",
    "ingest_schema = \"sec_dera\"\n",
    "\n",
    "env_var_prefix = \"TRINO\"\n",
    "\n",
    "sqlstring = \"trino://{user}@{host}:{port}/\".format(\n",
    "    user=os.environ[f\"{env_var_prefix}_USER\"],\n",
    "    host=os.environ[f\"{env_var_prefix}_HOST\"],\n",
    "    port=os.environ[f\"{env_var_prefix}_PORT\"],\n",
    ")\n",
    "sqlargs = {\n",
    "    \"auth\": trino.auth.JWTAuthentication(os.environ[f\"{env_var_prefix}_PASSWD\"]),\n",
    "    \"http_scheme\": \"https\",\n",
    "    \"catalog\": ingest_catalog,\n",
    "    \"schema\": ingest_schema,\n",
    "}\n",
    "engine = create_engine(sqlstring, connect_args=sqlargs)\n",
    "connection = engine.connect()\n",
    "\n",
    "import pandas as pd"
   ]
  },
  {
   "cell_type": "code",
   "execution_count": null,
   "id": "24ae6a0b-f082-42ed-9e84-1c89c228fa42",
   "metadata": {},
   "outputs": [],
   "source": [
    "import osc_ingest_trino as osc\n",
    "\n",
    "trino_bucket = osc.attach_s3_bucket(\"S3_DEV\")"
   ]
  },
  {
   "cell_type": "code",
   "execution_count": null,
   "id": "e03bbfa1-046d-4dc3-9cee-02ba6a490d03",
   "metadata": {},
   "outputs": [],
   "source": [
    "for tbl in [\"t_r\", \"t_f\", \"t_d\", \"t_c\", \"t_a\", \"t_i\"]:\n",
    "    qres = engine.execute(f\"drop table if exists sec_dera.{tbl}\")\n",
    "    print(qres.fetchall())"
   ]
  },
  {
   "cell_type": "markdown",
   "id": "ce985e76-ed82-4408-b5cf-b79f86ed86d6",
   "metadata": {},
   "source": [
    "### FX\n",
    "\n",
    "Many public companies are non-US companies or report facts in units of measurement other than USD.  We build a small table of market knowledge so that we can do foreign exchange (FX) calculations."
   ]
  },
  {
   "cell_type": "code",
   "execution_count": null,
   "id": "6e96e969-04ed-42f8-8e34-7410ba73d4f4",
   "metadata": {},
   "outputs": [],
   "source": [
    "sql = \"\"\"\n",
    "select count (*) as count, uom, ddate, max(value) as maxval, min(value) as minval from sec_dera.num\n",
    "where ddate>=DATE('2017-01-01')\n",
    "      and (tag='ClosingForeignExchangeRate' or tag='ForeignCurrencyExchangeRateTranslation1')\n",
    "      and qtrs=0 and uom!= 'USD' and (uom like '%USD%' or length(uom)=3)\n",
    "group by uom, ddate, tag\n",
    "order by ddate, uom, tag\n",
    "\"\"\"\n",
    "df_closing_fx = pd.read_sql(sql, engine, parse_dates=[\"ddate\"])\n",
    "# display(df_closing_fx)\n",
    "\n",
    "sql = \"\"\"\n",
    "select count (*) as count, uom, ddate, max(value) as maxval, min(value) as minval from sec_dera.num\n",
    "where ddate>=DATE('2017-01-01')\n",
    "      and tag='AverageForeignExchangeRate'\n",
    "      and qtrs=4 and uom!= 'USD' and (uom like '%USD%' or length(uom)=3)\n",
    "group by uom, ddate, tag\n",
    "order by ddate, uom, tag\n",
    "\"\"\"\n",
    "df_average_fx = pd.read_sql(sql, engine, parse_dates=[\"ddate\"])\n",
    "# display(df_average_fx)"
   ]
  },
  {
   "cell_type": "code",
   "execution_count": null,
   "id": "805b7970-6217-46ec-bb93-fc8bcf9dea0b",
   "metadata": {},
   "outputs": [],
   "source": [
    "import re\n",
    "\n",
    "\n",
    "def create_fx_dict(df):\n",
    "    \"\"\"From a list of FX pairs or non-USD (presumed to convert to USD) FX rates by dates, return a dictionary of FX rates by dates\"\"\"\n",
    "    df_gbp = df[df.uom.str.contains(r\"GBP\", flags=re.I)]\n",
    "    df_eur = df[df.uom.str.contains(r\"EUR\", flags=re.I)]\n",
    "    df_other = df[~df.uom.str.contains(r\"(GBP)|(EUR)\", flags=re.I)]\n",
    "\n",
    "    fx_input = {\"GBP\": df_gbp, \"EUR\": df_eur}\n",
    "\n",
    "    fx_df = {}\n",
    "\n",
    "    for fx in [\"GBP\", \"EUR\"]:\n",
    "        df_base = fx_input[fx].loc[df.maxval > 1, [\"ddate\", \"maxval\"]].groupby(by=\"ddate\").mean()\n",
    "        df_base[\"minval\"] = 1 / df_base.maxval\n",
    "        df_quote = fx_input[fx].loc[df.minval < 1, [\"ddate\", \"minval\"]].groupby(by=\"ddate\").mean()\n",
    "        df_quote[\"maxval\"] = 1 / df_quote.minval\n",
    "        df_fx = pd.concat((df_base, df_quote), axis=0).groupby(by=\"ddate\").mean().reset_index()\n",
    "        df_fx[\"base\"] = fx\n",
    "        df_fx.rename(columns={\"maxval\": \"to_USD\", \"minval\": \"from_USD\"}, inplace=True)\n",
    "        df_fx = df_fx[[\"base\", \"to_USD\", \"from_USD\", \"ddate\"]]\n",
    "        fx_df[fx] = df_fx.convert_dtypes()\n",
    "\n",
    "    for fx in list(\n",
    "        {\n",
    "            x[int(x[-1] == \"USD\") - 1].upper(): x[int(x[0] == \"USD\") - 1].upper()\n",
    "            for x in df_other.uom.str.split(r\"[-_/]\").values\n",
    "        }.keys()\n",
    "    ):\n",
    "        df_other_fx = df_other[df_other.uom.str.contains(fx, flags=re.I)]\n",
    "        df_base = df_other_fx.loc[df.maxval > 1, [\"ddate\", \"maxval\"]].groupby(by=\"ddate\").mean()\n",
    "        df_base[\"minval\"] = 1 / df_base.maxval\n",
    "        df_quote = df_other_fx.loc[df.minval < 1, [\"ddate\", \"minval\"]].groupby(by=\"ddate\").mean()\n",
    "        df_quote[\"maxval\"] = 1 / df_quote.minval\n",
    "        df_fx = pd.concat((df_base, df_quote), axis=0).groupby(by=\"ddate\").mean().reset_index()\n",
    "        df_fx[\"base\"] = fx\n",
    "        df_fx.rename(columns={\"maxval\": \"from_USD\", \"minval\": \"to_USD\"}, inplace=True)\n",
    "        df_fx = df_fx[[\"base\", \"to_USD\", \"from_USD\", \"ddate\"]]\n",
    "        fx_df[fx] = df_fx.convert_dtypes()\n",
    "\n",
    "    return fx_df"
   ]
  },
  {
   "cell_type": "markdown",
   "id": "0a5c6448-dbcc-4fc0-a19f-4cac0ff2dcd3",
   "metadata": {},
   "source": [
    "The `closing_fx` table contains point-in-time FX market information.\n",
    "\n",
    "The `average_fx` table contains a four-quarter average of FX rates."
   ]
  },
  {
   "cell_type": "code",
   "execution_count": null,
   "id": "9deee5cd-8518-425b-866c-c1e4507cf388",
   "metadata": {},
   "outputs": [],
   "source": [
    "def create_fx_table(df_fx, tbl):\n",
    "    df = osc.enforce_sql_column_names(pd.concat(create_fx_dict(df_fx).values()))\n",
    "    osc.drop_unmanaged_table(ingest_catalog, ingest_schema, tbl, engine, trino_bucket)\n",
    "    osc.ingest_unmanaged_parquet(df, ingest_schema, tbl, trino_bucket)\n",
    "    tabledef = osc.unmanaged_parquet_tabledef(\n",
    "        df, ingest_catalog, ingest_schema, tbl, trino_bucket, typemap={\"datetime64[ns]\": \"timestamp(3)\"}\n",
    "    )\n",
    "    table_create = engine.execute(tabledef)\n",
    "    # display(table_create.fetchall())\n",
    "\n",
    "    if False:\n",
    "        dataset_query = f\"SELECT * FROM {ingest_schema}.{tbl} limit 10\"\n",
    "        print(dataset_query)\n",
    "        dataset = engine.execute(dataset_query)\n",
    "        display(dataset.fetchall())\n",
    "\n",
    "\n",
    "for df, tbl in [(df_closing_fx, \"closing_fx\"), (df_average_fx, \"average_fx\")]:\n",
    "    create_fx_table(df, tbl)"
   ]
  },
  {
   "cell_type": "raw",
   "id": "f2b00942-69ab-4f6e-8021-75aa4a9893e5",
   "metadata": {},
   "source": [
    "# This complicated query helps us figure out how far and wide we need to reach to grab useful FX information\n",
    "\n",
    "qres = engine.execute(\"\"\"\n",
    "select S.adsh, S.cik, name, lei, sic, S.fy, N.ddate, N.uom, N.value as assets,\n",
    "       coalesce(FX.to_usd, FX_1mo.to_usd, FX_2mo.to_usd, FX_3mo.to_usd, FX_avg.to_usd, FX_avg_py.to_usd, FX_avg_1231.to_usd) * N.value as assets_usd,\n",
    "       coalesce(FX.ddate, FX_1mo.ddate, FX_2mo.ddate, FX_3mo.ddate, FX_avg.ddate, FX_avg_py.ddate, FX_avg_1231.ddate) as date_found,\n",
    "       date_diff ('month', coalesce(FX.ddate, FX_1mo.ddate, FX_2mo.ddate, FX_3mo.ddate, FX_avg.ddate, FX_avg_py.ddate, FX_avg_1231.ddate), N.ddate) as date_diff\n",
    "from sec_dera.sub as S\n",
    "     join sec_dera.assets_xyz_by_adsh_ddate as AD on S.adsh=AD.adsh\n",
    "     join sec_dera.num as N on AD.adsh=N.adsh and AD.a_ddate=N.ddate and N.coreg is NULL and N.qtrs=0 and N.tag='Assets'\n",
    "     left join sec_dera.closing_fx FX on N.uom=FX.base and N.ddate=FX.ddate\n",
    "     left join sec_dera.closing_fx FX_1mo on N.uom=FX_1mo.base and date_diff('month', FX_1mo.ddate, N.ddate)=1\n",
    "     left join sec_dera.closing_fx FX_2mo on N.uom=FX_2mo.base and date_diff('month', FX_2mo.ddate, N.ddate)=2\n",
    "     left join sec_dera.closing_fx FX_3mo on N.uom=FX_3mo.base and date_diff('month', FX_3mo.ddate, N.ddate)=3\n",
    "     left join sec_dera.average_fx FX_avg on N.uom=FX_avg.base and N.ddate=FX_avg.ddate\n",
    "     left join sec_dera.average_fx FX_avg_py on N.uom=FX_avg_py.base and N.ddate=date_add('year', 1, FX_avg_py.ddate)\n",
    "     left join sec_dera.average_fx FX_avg_1231 on N.uom=FX_avg_1231.base and DATE(cast (year(N.ddate)-1 as varchar)||'-12-31')=FX_avg_1231.ddate\n",
    "where S.fy>=DATE('2020-01-01')\n",
    "group by S.adsh, S.cik, name, lei, sic, S.fy, N.ddate, N.uom, N.value, coalesce(FX.to_usd, FX_1mo.to_usd, FX_2mo.to_usd, FX_3mo.to_usd, FX_avg.to_usd, FX_avg_py.to_usd, FX_avg_1231.to_usd) * N.value,\n",
    "        coalesce(FX.ddate, FX_1mo.ddate, FX_2mo.ddate, FX_3mo.ddate, FX_avg.ddate, FX_avg_py.ddate, FX_avg_1231.ddate),\n",
    "        date_diff ('month', coalesce(FX.ddate, FX_1mo.ddate, FX_2mo.ddate, FX_3mo.ddate, FX_avg.ddate, FX_avg_py.ddate, FX_avg_1231.ddate), N.ddate)\n",
    "having coalesce(FX.ddate, FX_1mo.ddate, FX_2mo.ddate, FX_3mo.ddate, FX_avg.ddate, FX_avg_py.ddate, FX_avg_1231.ddate) is null or date_diff ('month', coalesce(FX.ddate, FX_1mo.ddate, FX_2mo.ddate, FX_3mo.ddate, FX_avg.ddate, FX_avg_py.ddate, FX_avg_1231.ddate), N.ddate)!=0\n",
    "order by S.name, S.adsh, N.ddate, N.uom\n",
    "\"\"\")\n",
    "l = qres.fetchall()"
   ]
  },
  {
   "cell_type": "raw",
   "id": "3be96c12-cfb8-4453-8c09-89fe271bddf4",
   "metadata": {},
   "source": [
    "import pandas as pd\n",
    "\n",
    "df = pd.read_sql(\"\"\"\n",
    "select S.adsh, S.cik, name, lei, sic, S.fy, N.ddate, N.uom, N.value as assets,\n",
    "       coalesce(FX.to_usd, FX_1mo.to_usd, FX_2mo.to_usd, FX_3mo.to_usd, FX_avg.to_usd, FX_avg_py.to_usd, FX_avg_1231.to_usd) * N.value as assets_usd\n",
    "from sec_dera.sub as S\n",
    "     join sec_dera.assets_xyz_by_adsh_ddate as AD on S.adsh=AD.adsh\n",
    "     join sec_dera.num as N on AD.adsh=N.adsh and AD.a_ddate=N.ddate\n",
    "          and N.coreg is NULL and N.tag='Assets'\n",
    "     left join sec_dera.closing_fx FX on N.uom=FX.base and N.ddate=FX.ddate\n",
    "     left join sec_dera.closing_fx FX_1mo on N.uom=FX_1mo.base and date_diff('month', FX_1mo.ddate, N.ddate)=1\n",
    "     left join sec_dera.closing_fx FX_2mo on N.uom=FX_2mo.base and date_diff('month', FX_2mo.ddate, N.ddate)=2\n",
    "     left join sec_dera.closing_fx FX_3mo on N.uom=FX_3mo.base and date_diff('month', FX_3mo.ddate, N.ddate)=3\n",
    "     left join sec_dera.average_fx FX_avg on N.uom=FX_avg.base and N.ddate=FX_avg.ddate\n",
    "     left join sec_dera.average_fx FX_avg_py on N.uom=FX_avg_py.base and N.ddate=date_add('year', 1, FX_avg_py.ddate)\n",
    "     left join sec_dera.average_fx FX_avg_1231 on N.uom=FX_avg_1231.base and DATE(cast (year(N.ddate)-1 as varchar)||'-12-31')=FX_avg_1231.ddate\n",
    "where S.fy>=DATE('2020-01-01')\n",
    "\"\"\", engine, index_col=None)\n",
    "df"
   ]
  },
  {
   "cell_type": "raw",
   "id": "915176da-871d-421f-ae7c-6c8819292194",
   "metadata": {},
   "source": [
    "qres = engine.execute(\"select count (*), adsh, uom, tag group by adsh, uom, tag \")"
   ]
  },
  {
   "cell_type": "markdown",
   "id": "864d8afe-6053-4ab2-9418-42d089bb164c",
   "metadata": {},
   "source": [
    "### Annual Tables: Revenue and Income\n",
    "\n",
    "We  only ingest annual data (NUM.QTRS=4) for Revenues and Income.  \n",
    "\n",
    "Many companies report not only the present fiscal year data but two prior years as well.  \n",
    "The row_number() code ensures we use the latest reported fact for a given year"
   ]
  },
  {
   "cell_type": "raw",
   "id": "7a3e222a-b460-4859-9fd4-329330b1b1ae",
   "metadata": {},
   "source": [
    "# There are 56 of these and each one has a colorful explanation as to why the report data and the fiscal year are so misaligned\n",
    "\n",
    "engine.execute(\"select S.adsh, cik, fy, name from sec_dera.sub as S where S.form='10-K' and S.fy>=DATE('2018-01-01') and S.fy<DATE('2019-01-01')\").fetchall()"
   ]
  },
  {
   "cell_type": "raw",
   "id": "1d195269-e260-4310-94e3-1df8c959369c",
   "metadata": {},
   "source": [
    "engine.execute(\"select *, if (fp='','fp should not be empty string', '') from sec_dera.sub as S where S.form='10-K' and S.fp!='FY'\").fetchall()"
   ]
  },
  {
   "cell_type": "code",
   "execution_count": null,
   "id": "4558f007-195d-4bc7-91fc-2caf7b947478",
   "metadata": {},
   "outputs": [],
   "source": [
    "common_dera_form_test = \"(S.form='10-K' or S.form='20-F' or S.form='40-F')\"\n",
    "common_dera_fy_test = \"S.fy>=DATE('2014-01-01')\"\n",
    "common_dera_columns = \"S.adsh, S.cik, S.name, S.lei, S.sic, S.fy, N.ddate, N.uom\"\n",
    "partition_bits = \"partition by cik, fy order by abs(date_diff('day', fy, ddate))\""
   ]
  },
  {
   "cell_type": "code",
   "execution_count": null,
   "id": "9e9de3f8-759d-46a9-a110-197a74f338f2",
   "metadata": {},
   "outputs": [],
   "source": [
    "def generate_annual_dera_usd_query(what, tags):\n",
    "    usd_query = f\"\"\"\n",
    "create or replace view sec_dera.fy_{what}_usd_by_lei as\n",
    "select {common_dera_columns}, max(value) as {what}\n",
    "from sec_dera.sub as S join sec_dera.num as N on S.adsh=N.adsh\n",
    "where {common_dera_form_test}\n",
    "      and {common_dera_fy_test}\n",
    "      and uom='USD'\n",
    "      and coreg is NULL\n",
    "      and qtrs=4\n",
    "      and ({' or '.join([\"N.tag='\"+tag+\"'\" for tag in tags])})\n",
    "group by {common_dera_columns}\n",
    "\"\"\"\n",
    "    return usd_query\n",
    "\n",
    "\n",
    "def generate_annual_dera_xyz_query(what, tags):\n",
    "    # The X term prevents us from collecting foreign currency info that's duplicative of USD info we prefer\n",
    "    xyz_query = f\"\"\"\n",
    "create or replace view sec_dera.fy_{what}_xyz_by_lei as\n",
    "select {common_dera_columns}, max(N.value) as {what}\n",
    "from sec_dera.sub as S left join sec_dera.fy_{what}_usd_by_lei X on S.adsh=X.adsh\n",
    "     join sec_dera.num as N on S.adsh=N.adsh and (X.adsh IS NULL or X.ddate=N.ddate)\n",
    "where X.ddate IS NULL\n",
    "      and {common_dera_form_test}\n",
    "      and {common_dera_fy_test}\n",
    "      and N.uom!='USD'\n",
    "      and coreg is NULL\n",
    "      and qtrs=4\n",
    "      and ({' or '.join([\"N.tag='\"+tag+\"'\" for tag in tags])})\n",
    "group by {common_dera_columns}\n",
    "\"\"\"\n",
    "    return xyz_query\n",
    "\n",
    "\n",
    "def generate_annual_dera_combined_query(tbl, what, month_list):\n",
    "    query = f\"\"\"\n",
    "create table sec_dera.{tbl} as\n",
    "select {re.sub(r'[SN].','V_USD.',common_dera_columns)}, V_USD.{what} as {what}_usd\n",
    "from (select *,\n",
    "             row_number() over ({partition_bits}) as rn\n",
    "      from sec_dera.fy_{what}_usd_by_lei) as V_USD\n",
    "where rn=1\n",
    "UNION ALL\n",
    "select {re.sub(r'[SN].','V_XYZ.',common_dera_columns)},\n",
    "       coalesce(FX.to_usd, FX_1mo.to_usd, FX_2mo.to_usd, FX_3mo.to_usd, FX_avg.to_usd, FX_avg_py.to_usd, FX_avg_1231.to_usd) * V_XYZ.{what} as {what}_usd\n",
    "from (select *,\n",
    "             row_number() over ({partition_bits}) as rn\n",
    "      from sec_dera.fy_{what}_xyz_by_lei) as V_XYZ\n",
    "     left join sec_dera.closing_fx FX on V_XYZ.uom=FX.base and V_XYZ.ddate=FX.ddate\n",
    "     {' '.join(str(nmonths).join([\"left join sec_dera.closing_fx FX_\", \"mo on V_XYZ.uom=FX_\", \"mo.base and date_diff('month', FX_\", \"mo.ddate, V_XYZ.ddate)=\", \"\"]) for nmonths in month_list)}\n",
    "     left join sec_dera.average_fx FX_avg on V_XYZ.uom=FX_avg.base and V_XYZ.ddate=FX_avg.ddate\n",
    "     left join sec_dera.average_fx FX_avg_py on V_XYZ.uom=FX_avg_py.base and V_XYZ.ddate=date_add('year', 1, FX_avg_py.ddate)\n",
    "     left join sec_dera.average_fx FX_avg_1231 on V_XYZ.uom=FX_avg_1231.base and DATE(cast (year(V_XYZ.ddate)-1 as varchar)||'-12-31')=FX_avg_1231.ddate\n",
    "where rn=1\n",
    "\"\"\"\n",
    "    return query\n",
    "\n",
    "\n",
    "# print(generate_annual_dera_combined_query('t_r', 'revenue', [1, 2, 3]))"
   ]
  },
  {
   "cell_type": "code",
   "execution_count": null,
   "id": "91732d10-8629-4d0b-b575-a4630a03ccc1",
   "metadata": {},
   "outputs": [],
   "source": [
    "# cik=1056903\n",
    "engine.execute(\n",
    "    f\"select *, row_number() over (partition by cik, fy order by abs(date_diff('day', fy, ddate))) as rn from sec_dera.float_usd_by_lei where lei='529900L26LIS2V8PWM23' order by fy, ddate\"\n",
    ").fetchall()"
   ]
  },
  {
   "cell_type": "code",
   "execution_count": null,
   "id": "723b9bba-b185-4b9d-b2cc-2ca090a0ccfb",
   "metadata": {},
   "outputs": [],
   "source": [
    "def generate_instant_dera_usd_query(what, tags):\n",
    "    usd_query = f\"\"\"\n",
    "create or replace view sec_dera.{what}_usd_by_lei as\n",
    "select {common_dera_columns}, max(value) as {what}\n",
    "from sec_dera.sub as S\n",
    "     join sec_dera.num as N on S.adsh=N.adsh\n",
    "where {common_dera_form_test}\n",
    "      and {common_dera_fy_test}\n",
    "      and value>0\n",
    "      and uom='USD'\n",
    "      and coreg is NULL\n",
    "      and qtrs=0\n",
    "      and ({' or '.join([\"N.tag='\"+tag+\"'\" for tag in tags])})\n",
    "group by {common_dera_columns}\n",
    "\"\"\"\n",
    "    return usd_query\n",
    "\n",
    "\n",
    "def generate_instant_dera_xyz_query(what, tags):\n",
    "    xyz_query = f\"\"\"\n",
    "create or replace view sec_dera.{what}_xyz_by_lei as\n",
    "select {common_dera_columns}, max(value) as {what}\n",
    "from sec_dera.sub as S\n",
    "     left join sec_dera.{what}_usd_by_lei X on S.adsh=X.adsh\n",
    "     join sec_dera.num as N on S.adsh=N.adsh and (X.adsh IS NULL or X.ddate=N.ddate)\n",
    "where X.ddate IS NULL\n",
    "      and {common_dera_form_test}\n",
    "      and {common_dera_fy_test}\n",
    "      and value>0\n",
    "      and N.uom!='USD'\n",
    "      and coreg is NULL\n",
    "      and qtrs=0\n",
    "      and ({' or '.join([\"N.tag='\"+tag+\"'\" for tag in tags])})\n",
    "group by {common_dera_columns}\n",
    "\"\"\"\n",
    "    return xyz_query\n",
    "\n",
    "\n",
    "def generate_instant_dera_combined_query(tbl, what, month_list):\n",
    "    query = f\"\"\"\n",
    "create table sec_dera.{tbl} as\n",
    "select {re.sub(r'[SN].','V_USD.',common_dera_columns)}, V_USD.{what} as {what}_usd\n",
    "from (select *,\n",
    "             row_number() over ({partition_bits}) as rn\n",
    "      from sec_dera.{what}_usd_by_lei) as V_USD\n",
    "where rn=1\n",
    "UNION ALL\n",
    "select {re.sub(r'[SN].','V_XYZ.',common_dera_columns)},\n",
    "       coalesce(FX.to_usd, FX_1mo.to_usd, FX_2mo.to_usd, FX_3mo.to_usd, FX_avg.to_usd, FX_avg_py.to_usd, FX_avg_1231.to_usd) * V_XYZ.{what} as {what}_usd\n",
    "from (select *,\n",
    "             row_number() over ({partition_bits}) as rn\n",
    "      from sec_dera.{what}_xyz_by_lei) as V_XYZ\n",
    "     left join sec_dera.closing_fx FX on V_XYZ.uom=FX.base and V_XYZ.ddate=FX.ddate\n",
    "     {' '.join(str(nmonths).join([\"left join sec_dera.closing_fx FX_\", \"mo on V_XYZ.uom=FX_\", \"mo.base and date_diff('month', FX_\", \"mo.ddate, V_XYZ.ddate)=\", \"\"]) for nmonths in month_list)}\n",
    "     left join sec_dera.average_fx FX_avg on V_XYZ.uom=FX_avg.base and V_XYZ.ddate=FX_avg.ddate\n",
    "     left join sec_dera.average_fx FX_avg_py on V_XYZ.uom=FX_avg_py.base and V_XYZ.ddate=date_add('year', 1, FX_avg_py.ddate)\n",
    "     left join sec_dera.average_fx FX_avg_1231 on V_XYZ.uom=FX_avg_1231.base and DATE(cast (year(V_XYZ.ddate)-1 as varchar)||'-12-31')=FX_avg_1231.ddate\n",
    "where rn=1\n",
    "\"\"\"\n",
    "    return query\n",
    "\n",
    "\n",
    "print(generate_instant_dera_combined_query(\"t_f\", \"float\", [1, 2, 3]))"
   ]
  },
  {
   "cell_type": "code",
   "execution_count": null,
   "id": "5d53b4d4-5f42-472a-aa0d-0f6c8341b796",
   "metadata": {},
   "outputs": [],
   "source": [
    "revenue_tags = [\n",
    "    \"Revenue\",\n",
    "    \"Revenues\",\n",
    "    \"RevenueFromContractsWithCustomers\",\n",
    "    \"RevenueFromContractWithCustomerIncludingAssessedTax\",\n",
    "    \"RevenueFromContractWithCustomerExcludingAssessedTax\",\n",
    "    \"RevenuesNetOfInterestExpense\",\n",
    "    \"RegulatedAndUnregulatedOperatingRevenue\",\n",
    "    \"RegulatedOperatingRevenuePipelines\",\n",
    "    \"SalesRevenueGoodsNet\",\n",
    "]\n",
    "\n",
    "income_tags = [\"ProfitLoss\", \"NetIncomeLoss\", \"ComprehensiveIncome\"]\n",
    "\n",
    "dera_annual_dict = {\n",
    "    \"revenue\": revenue_tags,\n",
    "    \"income\": income_tags,\n",
    "}\n",
    "\n",
    "\n",
    "for what, tags in dera_annual_dict.items():\n",
    "    tbl = \"t_\" + what[0]\n",
    "    print(f\"Creating annual table `{tbl}` for `{what}`\")\n",
    "\n",
    "    query_usd = generate_annual_dera_usd_query(what, tags)\n",
    "    # print(query_usd)\n",
    "\n",
    "    query_xyz = generate_annual_dera_xyz_query(what, tags)\n",
    "    # print(query_xyz)\n",
    "\n",
    "    qres = engine.execute(f\"drop table if exists sec_dera.{tbl}\")\n",
    "    # display(qres.fetchall())\n",
    "\n",
    "    qres = engine.execute(query_usd)\n",
    "    # display(qres.fetchall())\n",
    "\n",
    "    qres = engine.execute(query_xyz)\n",
    "    # display(qres.fetchall())\n",
    "\n",
    "    query_final = generate_annual_dera_combined_query(tbl, what, [1, 2, 3])\n",
    "    qres = engine.execute(query_final)\n",
    "    # print(query_fintal)\n",
    "    display(qres.fetchall())"
   ]
  },
  {
   "cell_type": "raw",
   "id": "def1f50c-8456-41d7-b0b7-f618fd40ff82",
   "metadata": {},
   "source": [
    "engine.execute(\"describe t_r\").fetchall()"
   ]
  },
  {
   "cell_type": "raw",
   "id": "ee3b81b5-eb45-4aaa-b062-01a09624e794",
   "metadata": {
    "tags": []
   },
   "source": [
    "engine.execute(\"select DISTINCT * from t_r where name='SHAW COMMUNICATIONS INC'\").fetchall()"
   ]
  },
  {
   "cell_type": "raw",
   "id": "086604a7-9978-4278-af85-c4f7a004dc3a",
   "metadata": {},
   "source": [
    "engine.execute(f\"\"\"\n",
    "select V_USD.adsh, V_USD.cik, V_USD.name, V_USD.lei, V_USD.sic, V_USD.fy, V_USD.ddate, V_USD.uom, V_USD.revenue as revenue_usd\n",
    "from (select *,\n",
    "             row_number() over (partition by cik, ddate order by fy desc) as rn\n",
    "      from sec_dera.fy_revenue_usd_by_lei) as V_USD\n",
    "where rn=1 and V_USD.lei='549300SCT0RG6178CI40'\n",
    "\"\"\").fetchall()"
   ]
  },
  {
   "cell_type": "raw",
   "id": "b93c50ec-c9ea-417a-80f6-acce95913515",
   "metadata": {},
   "source": [
    "engine.execute(f\"\"\"\n",
    "select V_XYZ.adsh, V_XYZ.cik, V_XYZ.name, V_XYZ.lei, V_XYZ.sic, V_XYZ.fy, V_XYZ.ddate, V_XYZ.uom,\n",
    "       coalesce(FX.to_usd, FX_1mo.to_usd, FX_2mo.to_usd, FX_3mo.to_usd, FX_avg.to_usd, FX_avg_py.to_usd, FX_avg_1231.to_usd) * V_XYZ.revenue as revenue_usd\n",
    "from (select *,\n",
    "             row_number() over (partition by cik, ddate order by fy desc) as rn\n",
    "      from sec_dera.fy_revenue_xyz_by_lei) as V_XYZ\n",
    "     left join sec_dera.closing_fx FX on V_XYZ.uom=FX.base and V_XYZ.ddate=FX.ddate\n",
    "     left join sec_dera.closing_fx FX_1mo on V_XYZ.uom=FX_1mo.base and date_diff('month', FX_1mo.ddate, V_XYZ.ddate)=1 left join sec_dera.closing_fx FX_2mo on V_XYZ.uom=FX_2mo.base and date_diff('month', FX_2mo.ddate, V_XYZ.ddate)=2 left join sec_dera.closing_fx FX_3mo on V_XYZ.uom=FX_3mo.base and date_diff('month', FX_3mo.ddate, V_XYZ.ddate)=3\n",
    "     left join sec_dera.average_fx FX_avg on V_XYZ.uom=FX_avg.base and V_XYZ.ddate=FX_avg.ddate\n",
    "     left join sec_dera.average_fx FX_avg_py on V_XYZ.uom=FX_avg_py.base and V_XYZ.ddate=date_add('year', 1, FX_avg_py.ddate)\n",
    "     left join sec_dera.average_fx FX_avg_1231 on V_XYZ.uom=FX_avg_1231.base and DATE(cast (year(V_XYZ.ddate)-1 as varchar)||'-12-31')=FX_avg_1231.ddate\n",
    "where rn=1 and V_XYZ.lei='549300SCT0RG6178CI40'\n",
    "\"\"\").fetchall()"
   ]
  },
  {
   "cell_type": "raw",
   "id": "73a38b5d-76d2-4526-8267-50313826fd5a",
   "metadata": {},
   "source": [
    "engine.execute(f\"\"\"\n",
    "select * from\n",
    "(select *, row_number() over (partition by cik, ddate order by fy desc) as rn\n",
    "from sec_dera.fy_revenue_xyz_by_lei) as V_XYZ\n",
    "    left join sec_dera.closing_fx FX on V_XYZ.uom=FX.base and V_XYZ.ddate=FX.ddate\n",
    "    left join sec_dera.closing_fx FX_1mo on V_XYZ.uom=FX_1mo.base and date_diff('month', FX_1mo.ddate, V_XYZ.ddate)=1 left join sec_dera.closing_fx FX_2mo on V_XYZ.uom=FX_2mo.base and date_diff('month', FX_2mo.ddate, V_XYZ.ddate)=2 left join sec_dera.closing_fx FX_3mo on V_XYZ.uom=FX_3mo.base and date_diff('month', FX_3mo.ddate, V_XYZ.ddate)=3\n",
    "where V_XYZ.rn=1 and V_XYZ.lei='549300SCT0RG6178CI40'\n",
    "\"\"\").fetchall()"
   ]
  },
  {
   "cell_type": "raw",
   "id": "518b9a57-7558-4690-8d47-3d2b4bb6a180",
   "metadata": {},
   "source": [
    "engine.execute(f\"\"\"describe sec_dera.closing_fx\"\"\").fetchall()"
   ]
  },
  {
   "cell_type": "raw",
   "id": "7a7354a7-fe84-4ad4-bab7-63d064863e6f",
   "metadata": {},
   "source": [
    "engine.execute(f\"\"\"\n",
    "select * from sec_dera.closing_fx\n",
    "where base='CAD' and year(ddate)=2019\n",
    "order by ddate\n",
    "\"\"\").fetchall()"
   ]
  },
  {
   "cell_type": "raw",
   "id": "8a936a2a-d110-431c-8084-7f520ed01b5b",
   "metadata": {},
   "source": [
    "engine.execute(\"select * from sec_dera.sub where adsh='0001628280-21-016934'\").fetchall()"
   ]
  },
  {
   "cell_type": "raw",
   "id": "f4be2556-cee2-48da-849a-272758c208df",
   "metadata": {},
   "source": [
    "engine.execute(\"select * from sec_dera.t_r where name='INDEPENDENT BANK CORP'\").fetchall()"
   ]
  },
  {
   "cell_type": "raw",
   "id": "36ccac7d-75ce-418a-a4a5-9283d587855c",
   "metadata": {},
   "source": [
    "engine.execute(\"select count (*), tag from sec_dera.num where tag like '%Float%' and tag not like '%Floating%' and tag not like '%Floater%' group by tag order by tag\").fetchall()"
   ]
  },
  {
   "cell_type": "raw",
   "id": "ce7c1afa-d29a-4a9c-8a51-33229cf0e801",
   "metadata": {},
   "source": [
    "engine.execute(\"select count (*) from sec_dera.sub as S join sec_dera.float_by_adsh_ddate as AD on S.adsh=AD.adsh where (S.form!='10-K' and S.form!='20-F')\").fetchall()"
   ]
  },
  {
   "cell_type": "markdown",
   "id": "79d78d40-3f41-48af-928f-64c0816e0b83",
   "metadata": {},
   "source": [
    "### Instant Tables: Assets, Cash, Debt, and Float (market cap)\n",
    "\n",
    "These tables all measure point-in-time values.  We only measure the points-in-time that are part of annual reports. \n",
    "\n",
    "Many companies report not only the present fiscal year data but two prior years as well.  \n",
    "The row_number() code ensures we use the latest reported fact for a given year\n",
    "\n",
    "TODO: The float calculation reads the reported overall float without regard to share class.  For companies that have multiple associated tickers, this gives wrong results.  And probably very wrong results for BRK.A vs. BRK.B\n",
    "For starters, look at NG (National Grid plc), NGG (US Depository of NG), and its various preferred classes"
   ]
  },
  {
   "cell_type": "code",
   "execution_count": null,
   "id": "d2a42bc6-94c7-44bd-8bf8-1adce4669348",
   "metadata": {},
   "outputs": [],
   "source": [
    "float_tags = [\n",
    "    \"EntityPublicFloat\",\n",
    "    \"FreeFloat\",\n",
    "    \"PublicFloat\",\n",
    "    \"PublicFloatValue\",\n",
    "    \"ComputedFloat\",\n",
    "    \"ComputedMarketFloat\",\n",
    "    \"ComputedTreasuryFloat\",\n",
    "]\n",
    "\n",
    "cash_tags = [\n",
    "    \"Cash\",\n",
    "    \"CashAndDueFromBanks\",\n",
    "    \"CashAndCashEquivalents\",\n",
    "    \"CashAndCashEquivalentsUnrestricted\",  # this has some funkiness with upper/lower case data\n",
    "    \"CashEquivalentsAtCarryingValue\",\n",
    "    \"CashAndCashEquivalentsAtCarryingValue\",\n",
    "    \"CashAndCashEquivalentsAtCarryingValueExcludingVariableInterestEntities\",\n",
    "]\n",
    "\n",
    "debt_tags = [\n",
    "    \"LongTermDebt\",\n",
    "    \"LongTermDebtFairValue\",\n",
    "    \"LongTermDebtAndCapitalLeaseObligations\",\n",
    "    \"DebtAndCapitalLeaseObligations\",\n",
    "    \"DebtLongtermAndShorttermCombinedAmount\",\n",
    "    \"SecuredDebt\",\n",
    "    \"UnsecuredDebt\",\n",
    "    \"OperatingLeaseLiabilityNoncurrent\",\n",
    "    \"SubordinatedDebt\",\n",
    "    \"ConvertibleDebt\",\n",
    "    \"LongTermLineOfCredit\",\n",
    "    \"OtherBorrowings\",\n",
    "    \"NotesAndLoansReceivableNetNoncurrent\",\n",
    "    # NOTE: A MORE ACCURATE ANSWER COMES FROM SUMMING THESE TWO AND COMPARING WITH THE ABOVE (ALREADY-COMBINED) DEBT METRICS\n",
    "    \"LongTermDebtNoncurrent\",\n",
    "    \"LongTermDebtCurrent\",\n",
    "]\n",
    "\n",
    "dera_instant_dict = {\n",
    "    \"float\": float_tags,\n",
    "    \"cash\": cash_tags,\n",
    "    \"debt\": debt_tags,\n",
    "    \"assets\": [\"Assets\"],\n",
    "}\n",
    "\n",
    "for what, tags in dera_instant_dict.items():\n",
    "    tbl = \"t_\" + what[0]\n",
    "\n",
    "    print(f\"Creating instant table `{tbl}` for `{what}`\")\n",
    "\n",
    "    query_usd = generate_instant_dera_usd_query(what, tags)\n",
    "    # print(query_usd)\n",
    "\n",
    "    query_xyz = generate_instant_dera_xyz_query(what, tags)\n",
    "    # print(query_xyz)\n",
    "\n",
    "    qres = engine.execute(f\"drop table if exists sec_dera.{tbl}\")\n",
    "    # display(qres.fetchall())\n",
    "\n",
    "    qres = engine.execute(query_usd)\n",
    "    # display(qres.fetchall())\n",
    "\n",
    "    qres = engine.execute(query_xyz)\n",
    "    # display(qres.fetchall())\n",
    "\n",
    "    query_final = generate_instant_dera_combined_query(tbl, what, [1, 2, 3])\n",
    "    # print(query_final)\n",
    "    qres = engine.execute(query_final)\n",
    "    display(qres.fetchall())"
   ]
  },
  {
   "cell_type": "raw",
   "id": "5c68258d-6d96-4a4a-8598-9bfa5ba4efe3",
   "metadata": {},
   "source": [
    "# Leaving this here in case it's really much more work (and proper work) to sort which shares belong to which ticker,\n",
    "# which is not generic to creating this table as we do the others.\n",
    "\n",
    "qres = engine.execute(\"drop table if exists sec_dera.t_f\").fetchall()\n",
    "qres = engine.execute(\"\"\"\n",
    "create or replace view sec_dera.float_by_adsh_ddate as\n",
    "select S.adsh, fy, max(ddate) as f_ddate\n",
    "from sec_dera.sub as S join sec_dera.num as N on S.adsh=N.adsh\n",
    "where (S.form='10-K' or S.form='20-F' or S.form='40-F')\n",
    "        and S.fy>=DATE('2019-01-01')\n",
    "        and coreg is NULL\n",
    "        and qtrs=0\n",
    "        and (tag='EntityPublicFloat'\n",
    "             or tag='EntitysPublicFloat'\n",
    "             or tag='FreeFloat'\n",
    "             or tag='PublicFloat'\n",
    "             or tag='PublicFloatValue')\n",
    "group by S.adsh, fy\n",
    "\"\"\")\n",
    "display(qres.fetchall())\n",
    "\n",
    "qres = engine.execute(\"\"\"\n",
    "create or replace view sec_dera.float_usd_by_lei as\n",
    "select S.adsh, S.cik, name, lei, tname, sic, S.fy, N.ddate, uom, max(value) as market_cap\n",
    "from sec_dera.sub as S\n",
    "     join sec_dera.float_by_adsh_ddate as AD on S.adsh=AD.adsh\n",
    "     join sec_dera.num as N on AD.adsh=N.adsh and AD.f_ddate=N.ddate\n",
    "     left join sec_dera.ticker T on S.cik=T.cik\n",
    "     -- we already know we are looking at the correct S.form type\n",
    "where value>0\n",
    "      and uom='USD'\n",
    "      and coreg is NULL\n",
    "      and qtrs=0\n",
    "      and (tag='EntityPublicFloat'\n",
    "           or tag='EntitysPublicFloat'\n",
    "           or tag='FreeFloat'\n",
    "           or tag='PublicFloat'\n",
    "           or tag='PublicFloatValue')\n",
    "group by S.adsh, S.cik, name, lei, tname, sic, S.fy, N.ddate, uom\n",
    "\"\"\")\n",
    "display(qres.fetchall())\n",
    "\n",
    "qres = engine.execute(\"\"\"\n",
    "create or replace view sec_dera.float_xyz_by_lei as\n",
    "select S.adsh, S.cik, S.name, S.lei, T.tname, S.sic, S.fy, N.ddate, N.uom, max(value) as market_cap\n",
    "from sec_dera.sub as S\n",
    "     left join sec_dera.float_usd_by_lei X on S.adsh=X.adsh\n",
    "     join sec_dera.float_by_adsh_ddate as AD on S.adsh=AD.adsh\n",
    "     join sec_dera.num as N on AD.adsh=N.adsh and AD.f_ddate=N.ddate and (X.adsh IS NULL or X.ddate=N.ddate)\n",
    "     left join sec_dera.ticker T on S.cik=T.cik\n",
    "     -- we already know we are looking at the correct S.form type\n",
    "where X.ddate IS NULL\n",
    "      and value>0\n",
    "      and N.uom!='USD'\n",
    "      and coreg is NULL\n",
    "      and qtrs=0\n",
    "      and (tag='EntityPublicFloat'\n",
    "           or tag='EntitysPublicFloat'\n",
    "           or tag='FreeFloat'\n",
    "           or tag='PublicFloat'\n",
    "           or tag='PublicFloatValue')\n",
    "group by S.adsh, S.cik, S.name, S.lei, T.tname, S.sic, S.fy, N.ddate, N.uom\n",
    "\"\"\")\n",
    "display(qres.fetchall())\n",
    "\n",
    "qres = engine.execute(\"\"\"\n",
    "create table sec_dera.t_f as\n",
    "select V_USD.*, V_USD.market_cap as market_cap_usd\n",
    "from sec_dera.float_usd_by_lei as V_USD\n",
    "UNION ALL\n",
    "select V_XYZ.*, coalesce(FX.to_usd, FX_1mo.to_usd, FX_2mo.to_usd, FX_3mo.to_usd, FX_avg.to_usd, FX_avg_py.to_usd, FX_avg_1231.to_usd) * V_XYZ.market_cap as market_cap_usd\n",
    "from sec_dera.float_xyz_by_lei as V_XYZ\n",
    "     left join sec_dera.closing_fx FX on V_XYZ.uom=FX.base and V_XYZ.ddate=FX.ddate\n",
    "     left join sec_dera.closing_fx FX_1mo on V_XYZ.uom=FX_1mo.base and date_diff('month', FX_1mo.ddate, V_XYZ.ddate)=1\n",
    "     left join sec_dera.closing_fx FX_2mo on V_XYZ.uom=FX_2mo.base and date_diff('month', FX_2mo.ddate, V_XYZ.ddate)=2\n",
    "     left join sec_dera.closing_fx FX_3mo on V_XYZ.uom=FX_3mo.base and date_diff('month', FX_3mo.ddate, V_XYZ.ddate)=3\n",
    "     left join sec_dera.average_fx FX_avg on V_XYZ.uom=FX_avg.base and V_XYZ.ddate=FX_avg.ddate\n",
    "     left join sec_dera.average_fx FX_avg_py on V_XYZ.uom=FX_avg_py.base and V_XYZ.ddate=date_add('year', 1, FX_avg_py.ddate)\n",
    "     left join sec_dera.average_fx FX_avg_1231 on V_XYZ.uom=FX_avg_1231.base and DATE(cast (year(V_XYZ.ddate)-1 as varchar)||'-12-31')=FX_avg_1231.ddate\n",
    "\"\"\")\n",
    "display(qres.fetchall())"
   ]
  },
  {
   "cell_type": "raw",
   "id": "578068b7-1b4d-4bc9-8fd8-ff25a1b1b186",
   "metadata": {},
   "source": [
    "engine.execute(\"select * from sec_dera.t_f where name='INDEPENDENT BANK CORP'\").fetchall()"
   ]
  },
  {
   "cell_type": "markdown",
   "id": "cfac1ecd-d3d7-458e-9289-ea99b3067c6a",
   "metadata": {},
   "source": [
    "### Fitting Everything Together\n",
    "\n",
    "The FINANCIALS_BY_LEI table rolls up all the metrics we capture in once place, hopefully with no duplicated rows and only the best facts."
   ]
  },
  {
   "cell_type": "code",
   "execution_count": null,
   "id": "822aef22-df63-4cc9-b3d1-6310d406a12d",
   "metadata": {},
   "outputs": [],
   "source": [
    "# Ideally we can replace previously reported numbers with updated numbers.  But not yet.\n",
    "\n",
    "qres = engine.execute(\n",
    "    \"\"\"\n",
    "create or replace view sec_dera.financials_by_lei as\n",
    "select R.name, R.lei, R.cik, if(S.countryinc!='',S.countryinc,S.countryba) as country,\n",
    "       -- T.tname,\n",
    "       R.fy, R.ddate, R.sic, revenue_usd, income_usd, float_usd as market_cap_usd, debt_usd, cash_usd, assets_usd\n",
    "from sec_dera.t_r as R -- left join sec_dera.ticker T on S.cik=T.cik\n",
    "     join sec_dera.sub as S on R.cik=S.cik and R.fy=S.fy and (S.form='10-K' or S.form='20-F' or S.form='40-F')\n",
    "     left join sec_dera.t_i as I on R.cik=I.cik and R.ddate=I.ddate\n",
    "     left join sec_dera.t_f as F on R.cik=F.cik and R.fy=F.fy -- year(R.ddate)=year(F.ddate) \n",
    "     left join sec_dera.t_d as D on R.cik=D.cik and R.ddate=D.ddate\n",
    "     left join sec_dera.t_c as C on R.cik=C.cik and R.ddate=C.ddate\n",
    "     left join sec_dera.t_a as A on R.cik=A.cik and R.ddate=A.ddate\n",
    "-- where tname is null or tname not like '%-%'\n",
    "\"\"\"\n",
    ")\n",
    "display(qres.fetchall())\n",
    "\n",
    "qres = engine.execute(\n",
    "    \"\"\"\n",
    "select count(*) from sec_dera.financials_by_lei\n",
    "\"\"\"\n",
    ")\n",
    "print(qres.fetchall())"
   ]
  },
  {
   "cell_type": "code",
   "execution_count": null,
   "id": "08d9a942-ae9a-436f-88e7-68f0dee5807d",
   "metadata": {},
   "outputs": [],
   "source": [
    "qres = engine.execute(\n",
    "    \"\"\"\n",
    "select count(*), year(ddate) from sec_dera.t_r group by year(ddate) order by year(ddate)\n",
    "\"\"\"\n",
    ")\n",
    "qres.fetchall()"
   ]
  },
  {
   "cell_type": "raw",
   "id": "123202a3-e265-41f9-9b6b-2c80cc18e998",
   "metadata": {},
   "source": [
    "engine.execute(\"select * from sec_dera.financials_by_lei where lei='8R95QZMKZLJX5Q2XR704' order by ddate desc\").fetchall()"
   ]
  },
  {
   "cell_type": "raw",
   "id": "01738587-c8db-4e3f-8946-e5e7b0572841",
   "metadata": {},
   "source": [
    "engine.execute(\"select * from sec_dera.sub where cik=1174169 and form='40-F'\").fetchall()"
   ]
  },
  {
   "cell_type": "raw",
   "id": "f6039398-97d0-4e57-a52d-c99f41da8717",
   "metadata": {},
   "source": [
    "engine.execute(\"select * from sec_dera.num as R where (R.adsh='0001174169-20-000018' or R.adsh='0001174169-21-000012') and tag='RevenueFromContractWithCustomerExcludingAssessedTax'\").fetchall()"
   ]
  },
  {
   "cell_type": "raw",
   "id": "d6e96d70-95bb-4d04-81a0-853fa1431117",
   "metadata": {},
   "source": [
    "engine.execute(\"select * from sec_dera.t_r where adsh='0001004315-21-000067' or adsh='0001004315-20-000053'\").fetchall()"
   ]
  },
  {
   "cell_type": "markdown",
   "id": "cecc9056-a0ba-4f83-b1e9-16e84557308b",
   "metadata": {},
   "source": [
    "### An outstanding GLEIF problem:\n",
    "\n",
    "How far up the hierarchy should we climb?  For PG&E this really matters..."
   ]
  },
  {
   "cell_type": "code",
   "execution_count": null,
   "id": "59800931-e6ed-4ceb-a3e4-23d7df3ac09d",
   "metadata": {},
   "outputs": [],
   "source": [
    "engine.execute(\"select * from sec_dera.t_r where lei='I1BZKREC126H0VB1BL91' order by fy, ddate\").fetchall()"
   ]
  },
  {
   "cell_type": "code",
   "execution_count": null,
   "id": "77cb9245-858d-4d88-9202-677cb901b449",
   "metadata": {},
   "outputs": [],
   "source": [
    "l = engine.execute(\n",
    "    \"\"\"\n",
    "select A.lei, A.parent_name, R.name, date_format(R.fy, '%Y-%m-%d'), date_format(R.ddate, '%Y-%m-%d'), R.revenue_usd\n",
    "from (select coalesce(G.ultimate_parent_issuer_lei,U.parent_lei) as lei, U.parent_name\n",
    "      from rmi_20220119.utility_information as U left join gleif_mdt.gleif_direct_issuer_ultimate_issuer as G on U.parent_lei=G.direct_issuer_lei\n",
    "      group by coalesce(G.ultimate_parent_issuer_lei,U.parent_lei), U.parent_name) as A\n",
    "     left join sec_dera.t_r as R on A.lei=R.lei\n",
    "where A.lei is not null\n",
    "      and (R.lei is null or year(R.fy)=2020)\n",
    "order by A.parent_name\n",
    "\"\"\"\n",
    ").fetchall()\n",
    "\n",
    "print(len(l))\n",
    "display(l)"
   ]
  },
  {
   "cell_type": "raw",
   "id": "bb02e2e8-3b4b-4295-b049-98cab387fa84",
   "metadata": {
    "tags": []
   },
   "source": [
    "stop!  Rnadom queries and explorations below..."
   ]
  },
  {
   "cell_type": "raw",
   "id": "d3d1274a-acb6-4c3d-81a4-d9813ccea516",
   "metadata": {},
   "source": [
    "display(engine.execute(\"describe sec_dera.financials_by_lei\").fetchall())\n",
    "\n",
    "display(engine.execute(\"select * from sec_dera.t_f where lei='2NUNNB7D43COUIRE5295' order by ddate desc\").fetchall())\n",
    "\n",
    "engine.execute(\"select * from sec_dera.financials_by_lei where lei='2NUNNB7D43COUIRE5295' order by ddate desc\").fetchall()"
   ]
  },
  {
   "cell_type": "raw",
   "id": "2ea7585b-9c01-463a-9b17-b878ca190950",
   "metadata": {},
   "source": [
    "engine.execute(\"select count (*) from (select distinct(lei) from sec_dera.sub)\").fetchall()"
   ]
  },
  {
   "cell_type": "raw",
   "id": "cf8cc916-4601-4f93-93f2-a33aca870dd5",
   "metadata": {},
   "source": [
    "engine.execute(\"select S.name, cik, adsh from sec_dera.sub as S where name='DOMINION ENERGY, INC' limit 20\").fetchall()"
   ]
  },
  {
   "cell_type": "raw",
   "id": "0dcf48e4-07fe-4173-87a4-0a4eb79f0b03",
   "metadata": {},
   "source": [
    "engine.execute(\"select * from sec_dera.sub where cik=715957 and form='10-K' limit 20\").fetchall()"
   ]
  },
  {
   "cell_type": "raw",
   "id": "ec2ef204-21be-4e97-9cb6-2129bd5f10a2",
   "metadata": {},
   "source": [
    "engine.execute(\"select count (*), coreg from sec_dera.num where adsh='0001564590-21-008442' group by coreg limit 20\").fetchall()"
   ]
  },
  {
   "cell_type": "raw",
   "id": "1fe99770-6ef7-4ac2-8032-463bdc73cc1d",
   "metadata": {
    "tags": []
   },
   "source": [
    "engine.execute(\"select * from sec_dera.num where adsh='0001564590-21-008442' and coreg is null and tag='ProfitLoss' and qtrs=4 order by ddate desc\").fetchall()"
   ]
  },
  {
   "cell_type": "raw",
   "id": "63e10922-59dc-4af1-a8fc-62cc8fbebba3",
   "metadata": {
    "tags": []
   },
   "source": [
    "engine.execute(\"select * from sec_dera.sub where adsh='0001564590-21-008442'\").fetchall()"
   ]
  },
  {
   "cell_type": "raw",
   "id": "79eb4048-4fc6-4b5e-9285-721af58c3468",
   "metadata": {},
   "source": [
    "engine.execute(\"select tag, value from sec_dera.num where adsh='0001564590-21-008442' and coreg='VirginiaElectricAndPowerCompany' and ddate=DATE('2020-12-31') and qtrs=4 order by value desc limit 20\").fetchall()"
   ]
  },
  {
   "cell_type": "raw",
   "id": "32f045bb-f3d6-489f-99ba-e15089a0d0fe",
   "metadata": {},
   "source": [
    "engine.execute(\"select coreg, value from sec_dera.num where adsh='0001564590-21-008442' and tag='Revenues' and ddate=DATE('2020-12-31') and qtrs=4 order by value desc limit 20\").fetchall()"
   ]
  },
  {
   "cell_type": "raw",
   "id": "3225c884-b97b-492e-878c-63bf0646fbae",
   "metadata": {},
   "source": [
    "engine.execute(\"select coreg, value from sec_dera.num where adsh='0001564590-21-008444' and tag='RegulatedOperatingRevenue' and ddate=DATE('2020-12-31') order by value desc limit 20\").fetchall()"
   ]
  },
  {
   "cell_type": "raw",
   "id": "413a022c-6aaa-4843-b14f-3cec28c38cc5",
   "metadata": {},
   "source": [
    "engine.execute(f\"\"\"\n",
    "select S.adsh, S.cik, S.name, S.lei, T.tname, S.sic, S.fy, N.ddate, N.uom, max(value) as market_cap\n",
    "from sec_dera.sub as S\n",
    "     left join sec_dera.float_usd_by_lei X on S.adsh=X.adsh\n",
    "     join sec_dera.num as N on S.adsh=N.adsh and (X.adsh IS NULL or X.ddate=N.ddate)\n",
    "     left join sec_dera.ticker T on S.cik=T.cik\n",
    "     -- we already know we are looking at the correct S.form type\n",
    "where X.ddate IS NULL\n",
    "      and value>0\n",
    "      and N.uom!='USD'\n",
    "      and coreg is NULL\n",
    "      -- and qtrs=0\n",
    "      and (tag='ComputedTreasuryFloat')\n",
    "group by S.adsh, S.cik, S.name, S.lei, T.tname, S.sic, S.fy, N.ddate, N.uom\n",
    "\"\"\").fetchall()"
   ]
  },
  {
   "cell_type": "raw",
   "id": "b7721ed6-5e61-4e9e-93e4-ef958ec73825",
   "metadata": {
    "tags": []
   },
   "source": [
    "engine.execute(\"select * from sec_dera.float_xyz_by_lei where lei='8R95QZMKZLJX5Q2XR704'\").fetchall()"
   ]
  },
  {
   "cell_type": "raw",
   "id": "97daf4ed-9962-4e11-9e63-5d6ca4cdc88a",
   "metadata": {},
   "source": [
    "engine.execute(\"describe sec_dera.t_f\").fetchall()"
   ]
  },
  {
   "cell_type": "raw",
   "id": "90819e4b-4207-4980-b975-2b363855924a",
   "metadata": {},
   "source": [
    "engine.execute(\"select * from sec_dera.float_usd_by_lei where float=54000000.0\").fetchall()"
   ]
  },
  {
   "cell_type": "raw",
   "id": "1ca65124-c2c7-408f-8241-fd57b7af2ea9",
   "metadata": {
    "tags": []
   },
   "source": [
    "engine.execute(\"select * from sec_dera.num where adsh like '0001031296-2%' and value=54000000.0\").fetchall()"
   ]
  },
  {
   "cell_type": "code",
   "execution_count": null,
   "id": "62e081c4-72be-472b-b0fc-4fb7e6f9c61f",
   "metadata": {},
   "outputs": [],
   "source": []
  }
 ],
 "metadata": {
  "kernelspec": {
   "display_name": "Python 3",
   "language": "python",
   "name": "python3"
  },
  "language_info": {
   "codemirror_mode": {
    "name": "ipython",
    "version": 3
   },
   "file_extension": ".py",
   "mimetype": "text/x-python",
   "name": "python",
   "nbconvert_exporter": "python",
   "pygments_lexer": "ipython3",
   "version": "3.8.3"
  }
 },
 "nbformat": 4,
 "nbformat_minor": 5
}
