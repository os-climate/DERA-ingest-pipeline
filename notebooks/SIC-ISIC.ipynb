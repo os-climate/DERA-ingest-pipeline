{
 "cells": [
  {
   "cell_type": "markdown",
   "id": "a2b92125-628b-460a-ab68-a20d7e099288",
   "metadata": {},
   "source": [
    "Create an SIC <-> ISIC Crosswalk by hand.  This gets wiped every time the main DERA ingestion runs, but can be run after that any number of times"
   ]
  },
  {
   "cell_type": "code",
   "execution_count": null,
   "id": "153b3a7b-6abe-45bb-86fc-4599fa02f148",
   "metadata": {},
   "outputs": [],
   "source": [
    "from dotenv import dotenv_values, load_dotenv\n",
    "from osc_ingest_trino import *\n",
    "import os\n",
    "import pathlib"
   ]
  },
  {
   "cell_type": "markdown",
   "id": "ce3de5c4-cfec-4d6d-aa0c-8b300be5ca9a",
   "metadata": {},
   "source": [
    "Load Environment Variables"
   ]
  },
  {
   "cell_type": "code",
   "execution_count": null,
   "id": "7b7b13b2-e647-4bed-b213-f11e0f8f28ab",
   "metadata": {},
   "outputs": [],
   "source": [
    "dotenv_dir = os.environ.get(\"CREDENTIAL_DOTENV_DIR\", os.environ.get(\"PWD\", \"/opt/app-root/src\"))\n",
    "dotenv_path = pathlib.Path(dotenv_dir) / \"credentials.env\"\n",
    "if os.path.exists(dotenv_path):\n",
    "    load_dotenv(dotenv_path=dotenv_path, override=True)"
   ]
  },
  {
   "cell_type": "code",
   "execution_count": null,
   "id": "a6a9223c-cedd-4376-8a70-11b281cca5ba",
   "metadata": {},
   "outputs": [],
   "source": [
    "import trino\n",
    "from sqlalchemy.engine import create_engine\n",
    "\n",
    "env_var_prefix = \"TRINO\"\n",
    "\n",
    "sqlstring = \"trino://{user}@{host}:{port}/\".format(\n",
    "    user=os.environ[f\"{env_var_prefix}_USER\"],\n",
    "    host=os.environ[f\"{env_var_prefix}_HOST\"],\n",
    "    port=os.environ[f\"{env_var_prefix}_PORT\"],\n",
    ")\n",
    "sqlargs = {\n",
    "    \"auth\": trino.auth.JWTAuthentication(os.environ[f\"{env_var_prefix}_PASSWD\"]),\n",
    "    \"http_scheme\": \"https\",\n",
    "    \"catalog\": \"osc_datacommons_dev\",\n",
    "}\n",
    "engine = create_engine(sqlstring, connect_args=sqlargs)\n",
    "connection = engine.connect()"
   ]
  },
  {
   "cell_type": "code",
   "execution_count": null,
   "id": "378a90cc-c60c-4cae-ab45-332190cfc552",
   "metadata": {},
   "outputs": [],
   "source": [
    "import osc_ingest_trino as osc\n",
    "\n",
    "trino_bucket = osc.attach_s3_bucket(\"S3_DEV\")"
   ]
  },
  {
   "cell_type": "markdown",
   "id": "e89b6bb2-25ea-4ba6-80e8-e13189f05cdf",
   "metadata": {},
   "source": [
    "Open a Trino connection using JWT for authentication"
   ]
  },
  {
   "cell_type": "code",
   "execution_count": null,
   "id": "db0a37e1-f8d5-413a-8445-e398ce24d42c",
   "metadata": {},
   "outputs": [],
   "source": [
    "ingest_catalog = \"osc_datacommons_dev\"\n",
    "ingest_schema = \"sec_dera\""
   ]
  },
  {
   "cell_type": "code",
   "execution_count": null,
   "id": "adfb4a52-b0c9-4299-b9ec-42eaafd23cf1",
   "metadata": {},
   "outputs": [],
   "source": [
    "# Show available schemas to ensure trino connection is set correctly\n",
    "schema_read = engine.execute(f\"show schemas in {ingest_catalog}\")\n",
    "for row in schema_read.fetchall():\n",
    "    print(row)"
   ]
  },
  {
   "cell_type": "markdown",
   "id": "28a53a70-a725-4e56-ba9a-3d7d6c2790d4",
   "metadata": {},
   "source": [
    "Enter the Pandas!"
   ]
  },
  {
   "cell_type": "code",
   "execution_count": null,
   "id": "991fbe0f-96a7-4076-af17-5e52fce5a702",
   "metadata": {},
   "outputs": [],
   "source": [
    "import pandas as pd"
   ]
  },
  {
   "cell_type": "markdown",
   "id": "04c29eef-6e48-4664-9323-79ba8907a029",
   "metadata": {},
   "source": [
    "For now, create SIC -> ISIC crosswalk by hand"
   ]
  },
  {
   "cell_type": "code",
   "execution_count": null,
   "id": "7d61ef14-6987-43c6-a407-61a90b4684e7",
   "metadata": {},
   "outputs": [],
   "source": [
    "sic_isic = {\n",
    "    1400: 1410,  # Mining\n",
    "    2911: 1920,  # Petroleum refining\n",
    "    3714: 2910,  # Motor Vehicle Manufacturing\n",
    "    3829: 3190,  # Measuring & Controlling Devices (Midwest Energy Emissions Corp (MEEC))\n",
    "    3310: 2410,  # STEEL WORKS, BLAST FURNACES & ROLLING & FINISHING MILLS\n",
    "    3311: 2410,  # ???\n",
    "    3312: 2410,  # STEEL WORKS, BLAST FURNACES & ROLLING MILLS (COKE OVENS)\n",
    "    3313: 2410,  # Iron and Steel Mills and Ferroalloy Mfg.\n",
    "    3315: 2410,  # Steel Wire Drawing\n",
    "    3316: 2410,  # Rolled Steel Shape Mfg.\n",
    "    3317: 2410,  # Iron and Steel Pipe and Tube Mfg. from Purchased Steel (should be relatively larger S3 emissions, lower S1+S2 emissions per ton)\n",
    "    4911: 4010,  # Electricity Generation\n",
    "    4931: 4010,  # Electricity Generation\n",
    "    4932: 4010,  # Electricity Generation\n",
    "    4991: 4010,  # Typo?\n",
    "}\n",
    "\n",
    "df = pd.DataFrame.from_dict(sic_isic, orient=\"index\", columns=[\"isic\"])\n",
    "df.reset_index(inplace=True)\n",
    "df.rename(columns={\"index\": \"sic\"}, inplace=True)\n",
    "df"
   ]
  },
  {
   "cell_type": "code",
   "execution_count": null,
   "id": "c8c7ffb3-9d44-4320-9ab6-1d08b8a85935",
   "metadata": {},
   "outputs": [],
   "source": [
    "osc.drop_unmanaged_table(ingest_catalog, ingest_schema, \"sic_isic\", engine, trino_bucket)\n",
    "osc.ingest_unmanaged_parquet(df, ingest_schema, \"sic_isic\", trino_bucket)\n",
    "tabledef = unmanaged_parquet_tabledef(df, ingest_catalog, ingest_schema, \"sic_isic\", trino_bucket)\n",
    "qres = engine.execute(tabledef)\n",
    "qres.fetchall()"
   ]
  },
  {
   "cell_type": "code",
   "execution_count": null,
   "id": "33f966fb-c16f-4f66-9777-6137d7eba4ea",
   "metadata": {},
   "outputs": [],
   "source": []
  }
 ],
 "metadata": {
  "kernelspec": {
   "display_name": "Python 3",
   "language": "python",
   "name": "python3"
  },
  "language_info": {
   "codemirror_mode": {
    "name": "ipython",
    "version": 3
   },
   "file_extension": ".py",
   "mimetype": "text/x-python",
   "name": "python",
   "nbconvert_exporter": "python",
   "pygments_lexer": "ipython3",
   "version": "3.8.3"
  }
 },
 "nbformat": 4,
 "nbformat_minor": 5
}
